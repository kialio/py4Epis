{
 "cells": [
  {
   "cell_type": "markdown",
   "metadata": {
    "slideshow": {
     "slide_type": "slide"
    }
   },
   "source": [
    "# Python for Epis\n",
    "\n",
    "* I'm going to give some background and then some high level examples as fast as I can...\n",
    "* There are many examples on the web.  \n",
    "    * There are even some for SAS Users. Here's a good one: https://github.com/RandyBetancourt/PythonForSASUsers"
   ]
  },
  {
   "cell_type": "markdown",
   "metadata": {
    "slideshow": {
     "slide_type": "slide"
    }
   },
   "source": [
    "# Objectives\n",
    "* Introduce you to the Python language\n",
    "* Show its utility in your research life\n",
    "* (I'm not going to show how to install python or get it going on your machine, if you want to get going quickly, check out conda: https://docs.conda.io/en/latest/)\n",
    "\n",
    "## Credits\n",
    "* Borrowed heavily from https://github.com/profjsb/python-bootcamp "
   ]
  },
  {
   "cell_type": "markdown",
   "metadata": {
    "slideshow": {
     "slide_type": "slide"
    }
   },
   "source": [
    "# Who I Am\n",
    "\n",
    "## Jeremy Perkins\n",
    "[@oldmanperkins](https://twitter.com/oldmanperkins)\n",
    "\n",
    "https://github.com/kialio\n",
    "\n",
    "I work at NASA/GSFC (here as a private citizen) and work on developing next generation gamma-ray instrumentation ([AMEGO](https://asd.gsfc.nasa.gov/amego/), [BurstCube](https://asd.gsfc.nasa.gov/burstcube/)).  I use python to analyze data, control hardware, figure out budgets (I try to get data out of the excel spreadsheets my financial people give me as fast as possible), make pretty plots...\n",
    "\n"
   ]
  },
  {
   "cell_type": "markdown",
   "metadata": {
    "slideshow": {
     "slide_type": "slide"
    }
   },
   "source": [
    "# Introduction\n",
    "* What is Python?\n",
    "* Why Python?\n",
    "* Getting Started..."
   ]
  },
  {
   "cell_type": "markdown",
   "metadata": {
    "slideshow": {
     "slide_type": "slide"
    }
   },
   "source": [
    "# What is Python?\n",
    "\n",
    ">Python is an interpreted, object-oriented, high-level programming language with dynamic semantics. Its high-level built in data structures, combined with dynamic typing and dynamic binding, make it very attractive for Rapid Application Development, as well as for use as a scripting or glue language to connect existing components together. Python's simple, easy to learn syntax emphasizes readability and therefore reduces the cost of program maintenance. Python supports modules and packages, which encourages program modularity and code reuse. The Python interpreter and the extensive standard library are available in source or binary form without charge for all major platforms, and can be freely distributed.\n",
    "\n",
    "https://www.python.org/doc/essays/blurb/"
   ]
  },
  {
   "cell_type": "markdown",
   "metadata": {
    "slideshow": {
     "slide_type": "subslide"
    }
   },
   "source": [
    "# What is Python?\n",
    "<table>\n",
    "    <tr style=\"border-color: white;\">\n",
    "        <td style=\"border-color: white;\">interpreted</td>\n",
    "        <td style=\"border-color: white;\">no need for a compiling stage</td>\n",
    "    </tr>\n",
    "    <tr style=\"background-color: #D8D8D8; border-color: white;\">\n",
    "        <td style=\"border-color: white;\">object-oriented</td>\n",
    "        <td style=\"border-color: white;\">programming paradigm that uses objects (complex data structures with methods)</td>\n",
    "    </tr>\n",
    "    <tr style=\"border-color: white;\">\n",
    "        <td style=\"border-color: white;\">high level</td>\n",
    "        <td style=\"border-color: white;\">abstraction from the way machine interprets & executes</td>\n",
    "    </tr>\n",
    "    <tr style=\"background-color: #D8D8D8; border-color: white;\">\n",
    "        <td style=\"border-color: white;\">dynamic semantics</td>\n",
    "        <td style=\"border-color: white;\">can change meaning on-the-fly</td>\n",
    "    </tr>\n",
    "    <tr style=\"border-color: white;\">\n",
    "        <td style=\"border-color: white;\">built in</td>\n",
    "        <td style=\"border-color: white;\">core language (not external)</td>\n",
    "    </tr>\n",
    "    <tr style=\"background-color: #D8D8D8; border-color: white;\">\n",
    "        <td style=\"border-color: white;\">data structures</td>\n",
    "        <td style=\"border-color: white;\">ways of storing/manipulating data</td>\n",
    "    </tr>\n",
    "    <tr style=\"border-color: white;\">\n",
    "        <td style=\"border-color: white;\">script/glue</td>\n",
    "        <td style=\"border-color: white;\">programs that control other programs</td>\n",
    "    </tr>\n",
    "    <tr style=\"background-color: #D8D8D8; border-color: white;\">\n",
    "        <td style=\"border-color: white;\">typing</td>\n",
    "        <td style=\"border-color: white;\">the sort of variable (int, string)</td>\n",
    "    </tr>\n",
    "    <tr style=\"border-color: white;\">\n",
    "        <td style=\"border-color: white;\">syntax</td>\n",
    "        <td style=\"border-color: white;\">grammar which defines the language</td>\n",
    "    </tr>\n",
    "    <tr style=\"background-color: #D8D8D8; border-color: white;\">\n",
    "        <td style=\"border-color: white;\">library</td>\n",
    "        <td style=\"border-color: white;\">reusable collection of code</td>\n",
    "    </tr>\n",
    "    <tr style=\"border-color: white;\">\n",
    "        <td style=\"border-color: white;\">binary</td>\n",
    "        <td style=\"border-color: white;\">a file that you can run/execute</td>\n",
    "    </tr>\n",
    "</table>"
   ]
  },
  {
   "cell_type": "markdown",
   "metadata": {
    "slideshow": {
     "slide_type": "subslide"
    }
   },
   "source": [
    "# Development History\n",
    "\n",
    "* Started over the Christmas break 1989, by Guido van Rossum\n",
    "* Developed in the early 1990s\n",
    "* Name comes from Monty Python’s Flying Circus\n",
    "* Guido is the Benevolent Dictator for Life (BDFL), meaning that he continues to oversee Python’s development."
   ]
  },
  {
   "cell_type": "markdown",
   "metadata": {
    "slideshow": {
     "slide_type": "subslide"
    }
   },
   "source": [
    "# Development History\n",
    "\n",
    "* Open-sourced development from the start (BSD licensed now)\n",
    "    * http://www.opensource.org/licenses/bsd-license.php\n",
    "* Relies on large community input (bugs, patches) and 3rd party add-on software\n",
    "* Version 2.0 (2000), 2.6 (2008), 2.7 (2010). \n",
    "* Version 2.7.X is reaching end of life this year.\n",
    "* Version 3.X (2008) is not backward compatible with 1.X & 2.X. If you're starting now, use 3.X."
   ]
  },
  {
   "cell_type": "markdown",
   "metadata": {
    "slideshow": {
     "slide_type": "slide"
    }
   },
   "source": [
    "# Why Python \n",
    "## Some of the Alternatives\n",
    "I've used almost all of these at some point\n",
    "### C, C++, Fortran\n",
    "*Pros: great performance, backbone of legacy scientific computing codes*\n",
    "\n",
    "`Cons: syntax not optimized for causal programming, no interactive facilities, difficult visualization, text processing, etc. `\n",
    "\n",
    "### Mathmatica, Maple, Matlab, IDL (and I guess SAS, SPSS,...)\n",
    "*Pros: interactive, great visuals, extensive libraries*\n",
    "\n",
    "`Cons: costly, proprietary, unpleasant for large-scale programs and non-mathematical tasks.`\n",
    "\n",
    "### Perl\n",
    "http://strombergers.com/python/"
   ]
  },
  {
   "cell_type": "markdown",
   "metadata": {
    "slideshow": {
     "slide_type": "subslide"
    }
   },
   "source": [
    "# Why Python\n",
    "* **Free** (BSD license), highly portable (Linux, OSX, Windows, lots...)\n",
    "* **Interactive** interpreter provided.\n",
    "* Extremely readable syntax (**“executable pseudo-code”**). \n",
    "* **Simple**: non-professional programmers can use it effectively\n",
    "    * great documentation\n",
    "    * total abstraction of memory management \n",
    "* Clean object-oriented model, but **not mandatory**.\n",
    "* Rich built-in types: lists, sets, dictionaries (hash tables), strings, ... \n",
    "* Very comprehensive standard library (**batteries included**) \n",
    "* Standard libraries for IDL/Matlab-like arrays (NumPy)\n",
    "* Easy to wrap existing C, C++ and FORTRAN codes."
   ]
  },
  {
   "cell_type": "markdown",
   "metadata": {
    "slideshow": {
     "slide_type": "subslide"
    }
   },
   "source": [
    "# Why Python\n",
    "## Amazingly Scalable\n",
    "* Interactive experimentation \n",
    "* build small, self-contained scripts or million-lines projects. \n",
    "* From occasional/novice to full-time use (try that with C++).\n",
    "* Large community of open source packages\n",
    "\n",
    "## The Kitchen Sink (in a good way)\n",
    "* really can do anything you want, with impressive simplicity\n",
    "\n",
    "## Performance, if you need it\n",
    "* As an interpreted language, Python is slow.\n",
    "* But...if you need speed you can do the heavy lifting in C or FORTRAN <br/>...or you can use a Python compiler (e.g., Cython) "
   ]
  },
  {
   "cell_type": "markdown",
   "metadata": {
    "slideshow": {
     "slide_type": "subslide"
    }
   },
   "source": [
    "# My Group Uses Python For\n",
    "## Providing a comprehensive analysis framework for Fermi LAT data\n",
    "\n",
    "(I was forced into using python...)\n",
    "\n",
    "* Interface to the low-level (c++) code - Interactive data analysis\n",
    "* Scripting\n",
    "* Developing new analysis techniques\n",
    "* Adding features to static code quickly\n",
    "* Providing high-level analysis tools (data selection, statistical testing, simulation development, plot making, and so on and so forth)\n",
    "* Validation and Testing\n",
    "\n",
    "\n",
    "# What I Use Python For\n",
    "* Data reduction & Analysis\n",
    "    * processing FITS images quickly\n",
    "    * wrapping around 3rd party software\n",
    "* A Handy & Quick Calculator\n",
    "* Prototyping new algorithms/ideas\n",
    "* Making plots for papers\n",
    "* Notebooking (i.e. making me remember stuff)\n",
    "    * see the iPython sessions later\n",
    "* Writing Presentations (these slides)\n",
    "* Controling hardware"
   ]
  },
  {
   "cell_type": "markdown",
   "metadata": {
    "slideshow": {
     "slide_type": "subslide"
    }
   },
   "source": [
    "# Python is everywhere\n",
    "\n",
    "https://wiki.python.org/moin/OrganizationsUsingPython\n",
    "\n",
    "# Applications are Numerous\n",
    "\n",
    "* Scripting and Programing\n",
    "* GUI's\n",
    "* Web Development\n",
    "* Interactive Notebooks (see later)\n",
    "* Visualization\n",
    "* Parralelization\n",
    "* Animation\n",
    "* And so on..."
   ]
  },
  {
   "cell_type": "markdown",
   "metadata": {
    "slideshow": {
     "slide_type": "slide"
    }
   },
   "source": [
    "# Firing up the interpreter in OSX\n",
    "\n",
    "## Go to Utilities->Terminal\n",
    "\n",
    "***\n",
    "`[pyuser@pymac ~]$ python`<br/>\n",
    "`Python 3.6.7 | packaged by conda-forge | (default, Jul  2 2019, 02:07:37)`<br/>\n",
    "`[GCC 4.2.1 Compatible Clang 4.0.1 (tags/RELEASE_401/final)] on darwin`<br/>\n",
    "`Type \"help\", \"copyright\", \"credits\" or \"license\" for more information.`<br/>\n",
    "`>>>`<br/>\n",
    "***\n",
    "The details might be different (different version, different compiler).  You could also use iPython:\n",
    "***\n",
    "`[pyuser@pymac ~]$ ipython `<br/>\n",
    "`Python 3.6.7 | packaged by conda-forge | (default, Jul  2 2019, 02:07:37)`<br/>\n",
    "`Type 'copyright', 'credits' or 'license' for more information`<br/>\n",
    "`IPython 7.8.0 -- An enhanced Interactive Python. Type '?' for help.`<br/>\n",
    "<br/>\n",
    "`In [1]:`<br/>\n",
    "***"
   ]
  },
  {
   "cell_type": "markdown",
   "metadata": {},
   "source": [
    "## Firing it up in other OS's like Windows\n",
    "\n",
    "Install python via Conda and follow the directions.  "
   ]
  },
  {
   "cell_type": "markdown",
   "metadata": {
    "slideshow": {
     "slide_type": "slide"
    }
   },
   "source": [
    "# Creating Python Programs and Scripts\n",
    "\n",
    "* Basically, any raw text editor will do\n",
    "    * Lot's of the basic ones will do syntax highlighting (reccomended)\n",
    "* You create a python program or script file in the text editor and usually save it with a *.py extension\n",
    "* There are lots of programs out there that can do this and have fancy markup.\n",
    "    * I'm still using emacs\n",
    "    * List: https://wiki.python.org/moin/PythonEditors\n",
    "    * Make sure it saves as raw text (and not rich text or something else)"
   ]
  },
  {
   "cell_type": "markdown",
   "metadata": {
    "slideshow": {
     "slide_type": "slide"
    }
   },
   "source": [
    "# Last Thing: The Notebook\n",
    "\n",
    "* The jupyter Notebook is a powerful tool\n",
    "* You **will** want to use it.\n",
    "* To start it up from the terminal type\n",
    "\n",
    "`jupyter notebook`\n",
    "\n",
    "and a browser window should open that looks like this\n",
    "\n",
    "![notebook](iPython_Notebook.png)\n"
   ]
  },
  {
   "cell_type": "code",
   "execution_count": 10,
   "metadata": {
    "slideshow": {
     "slide_type": "slide"
    }
   },
   "outputs": [],
   "source": [
    "%matplotlib inline\n",
    "from matplotlib import pyplot as plt\n",
    "import numpy as np"
   ]
  },
  {
   "cell_type": "code",
   "execution_count": 11,
   "metadata": {
    "slideshow": {
     "slide_type": "fragment"
    }
   },
   "outputs": [
    {
     "data": {
      "image/png": "[encoded data removed]",
      "text/plain": [
       "<Figure size 1152x576 with 1 Axes>"
      ]
     },
     "metadata": {},
     "output_type": "display_data"
    }
   ],
   "source": [
    "plt.xkcd()\n",
    "plt.figure(figsize=(16,8))\n",
    "x = np.arange(10)\n",
    "plt.plot(x,x+0.5*x*x)\n",
    "plt.xlabel('Years Since Release')\n",
    "plt.ylabel('Interest in Python')\n",
    "plt.show()"
   ]
  },
  {
   "cell_type": "code",
   "execution_count": null,
   "metadata": {},
   "outputs": [],
   "source": []
  }
 ],
 "metadata": {
  "kernelspec": {
   "display_name": "Python 3",
   "language": "python",
   "name": "python3"
  },
  "language_info": {
   "codemirror_mode": {
    "name": "ipython",
    "version": 3
   },
   "file_extension": ".py",
   "mimetype": "text/x-python",
   "name": "python",
   "nbconvert_exporter": "python",
   "pygments_lexer": "ipython3",
   "version": "3.6.7"
  }
 },
 "nbformat": 4,
 "nbformat_minor": 1
}
