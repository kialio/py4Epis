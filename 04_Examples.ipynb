{
 "cells": [
  {
   "cell_type": "code",
   "execution_count": null,
   "metadata": {},
   "outputs": [],
   "source": [
    "import numpy as np\n",
    "import pandas as pd\n",
    "from numpy.random import randn\n",
    "from pandas import Series, DataFrame, Index"
   ]
  },
  {
   "cell_type": "markdown",
   "metadata": {},
   "source": [
    "## 'Real' World Examples\n",
    "\n",
    "Christina was nice enough to give me a dataset and some examples in SAS for me to try and duplicate in python. \n",
    "\n",
    "(Most fun I've had in ages...)"
   ]
  },
  {
   "cell_type": "markdown",
   "metadata": {},
   "source": [
    "## Example: Searching for Sickle Cell Anemia in any discharge diagnosis across each discharge record.  \n",
    "\n",
    "This array will pull any record from the statewide outpatient discharge file (opcalendar2017_35) where sickle cell anemia is found across any of the 30 variables for either the Principal Diagnosis (prindiag), 28 Secondary Diagnoses (Diag1-Diag28), or the E-Code (e_code).  If true, the record is exported to the temporary dataset (opsicklecell17); if false, the record is not included in the temporary dataset.  Although there are several individual ICD-10 discharge diagnoses for sickle cell anemia, they all begin with D57.XXX; therefore, the IN: statement captures the sub diagnoses without having to type each one out.\n",
    "Note: the dummy dataset I provided only has 7 diagnosis fields: Prindiag, Diag1-Diag5 and e_code, to limit the size of the file (values in Diag6-Diag28 are rare anyway).\n"
   ]
  },
  {
   "cell_type": "markdown",
   "metadata": {},
   "source": [
    "````\n",
    "data opsicklecell17;\n",
    "set op17.opconcalendar2017_35;\n",
    "array dx [30] prindiag diag1-diag28 e_code;\n",
    "\tdo i = 1 to 30;\n",
    "\t\tif dx(i) in : ('D57') then do;\n",
    "\t\t\toutput opsicklecell17;\n",
    "\t\t\tleave;\n",
    "\t \tend;\n",
    "\tend;\n",
    "drop i;\n",
    "run;\n",
    "````"
   ]
  },
  {
   "cell_type": "code",
   "execution_count": null,
   "metadata": {},
   "outputs": [],
   "source": [
    "df = pd.read_excel(\"PythonExample.xlsx\")"
   ]
  },
  {
   "cell_type": "code",
   "execution_count": null,
   "metadata": {},
   "outputs": [],
   "source": [
    "df.info()"
   ]
  },
  {
   "cell_type": "code",
   "execution_count": null,
   "metadata": {},
   "outputs": [],
   "source": [
    "DIAGS = [\"DIAG\"+str(diag+1) for diag in range(5)]"
   ]
  },
  {
   "cell_type": "code",
   "execution_count": null,
   "metadata": {},
   "outputs": [],
   "source": [
    "DIAGS"
   ]
  },
  {
   "cell_type": "code",
   "execution_count": null,
   "metadata": {},
   "outputs": [],
   "source": [
    "df[['PRINDIAG', 'E_CODE'] + DIAGS]"
   ]
  },
  {
   "cell_type": "code",
   "execution_count": null,
   "metadata": {},
   "outputs": [],
   "source": [
    "mask = (df['PRINDIAG'].notnull()) & (df['PRINDIAG'].str.contains(\"D57\"))\n",
    "for col in (['E_CODE'] + DIAGS):\n",
    "    mask = (mask) | (df[col].notnull()) & (df[col].str.contains(\"D57\"))"
   ]
  },
  {
   "cell_type": "code",
   "execution_count": null,
   "metadata": {},
   "outputs": [],
   "source": [
    "mask"
   ]
  },
  {
   "cell_type": "code",
   "execution_count": null,
   "metadata": {},
   "outputs": [],
   "source": [
    "df[mask]"
   ]
  },
  {
   "cell_type": "markdown",
   "metadata": {},
   "source": [
    "## Example: List the Sickle Cell Anemia ED encounter counts by Sex, Race/Ethnicity and Hospital in order of frequency, for Prince George’s County Hospitals\n",
    "\n",
    "````\n",
    "proc freq data= opsicklecell17 order = freq;\n",
    "tables sex race*ethnicit hospid;\n",
    "where hospid in : (210003, 210051, 210060, 210062) and prindiag in : ('D57'); \n",
    "run;\n",
    "````\n",
    "\n",
    "This procedure will provide the encounter counts (in order of most to least) by sex, race/ethnicity and by hospital only occurring in Prince George’s County hospitals (hospid = 210003, 210051, 210060, 210062) AND with a principal discharge diagnosis of Sickle Cell Anemia (ICD-10 code D57).\n"
   ]
  },
  {
   "cell_type": "markdown",
   "metadata": {},
   "source": [
    "## Cheating...\n",
    "\n",
    "I'm going to cheat and look for some other stuff since there were only two Sickle Cell Anemia cases in this data set.  \n",
    "\n",
    "Chritina suggested I look for \n",
    "\n",
    "* J069 – Acute Respiratory Infection\n",
    "* R0789 – Chest Pain, Other\n",
    "* R51 – Headache\n",
    "* I10 – Essential Hypertension\n",
    "* F1120 – Opioid Dependence"
   ]
  },
  {
   "cell_type": "code",
   "execution_count": null,
   "metadata": {},
   "outputs": [],
   "source": [
    "new_mask = df.PRINDIAG.str.contains('R0789') & df.HOSPID.isin([210003, 210051, 210060, 210062])"
   ]
  },
  {
   "cell_type": "code",
   "execution_count": null,
   "metadata": {},
   "outputs": [],
   "source": [
    "df[new_mask].HOSPID.value_counts()"
   ]
  },
  {
   "cell_type": "code",
   "execution_count": null,
   "metadata": {},
   "outputs": [],
   "source": [
    "df[new_mask].AGEGRP.value_counts()"
   ]
  },
  {
   "cell_type": "code",
   "execution_count": null,
   "metadata": {},
   "outputs": [],
   "source": [
    "df.SEX.value_counts?"
   ]
  },
  {
   "cell_type": "code",
   "execution_count": null,
   "metadata": {},
   "outputs": [],
   "source": [
    "df[new_mask].SEX.value_counts()"
   ]
  },
  {
   "cell_type": "code",
   "execution_count": null,
   "metadata": {},
   "outputs": [],
   "source": [
    "pd.crosstab(df[new_mask].RACE,df[new_mask].ETHNICIT)"
   ]
  },
  {
   "cell_type": "code",
   "execution_count": null,
   "metadata": {},
   "outputs": [],
   "source": [
    "pd.crosstab(df[new_mask].RACE,df[new_mask].ETHNICIT)"
   ]
  },
  {
   "cell_type": "markdown",
   "metadata": {},
   "source": [
    "## Pivot Table by  Means\n",
    "\n",
    "Christina asked me to show how to do the mean TOT_CHG by hostpital.\n",
    "\n",
    "This is what I did on the fly:"
   ]
  },
  {
   "cell_type": "code",
   "execution_count": null,
   "metadata": {},
   "outputs": [],
   "source": [
    "for hos in (210003, 210051, 210060, 210062):\n",
    "    print(df[df.HOSPID == hos].TOT_CHG.mean())"
   ]
  },
  {
   "cell_type": "markdown",
   "metadata": {},
   "source": [
    "This is how you should do it in pandas"
   ]
  },
  {
   "cell_type": "code",
   "execution_count": null,
   "metadata": {},
   "outputs": [],
   "source": [
    "df.pivot_table(index=['HOSPID'], values=['TOT_CHG'], aggfunc='mean')"
   ]
  },
  {
   "cell_type": "code",
   "execution_count": null,
   "metadata": {},
   "outputs": [],
   "source": []
  }
 ],
 "metadata": {
  "kernelspec": {
   "display_name": "Python 3",
   "language": "python",
   "name": "python3"
  },
  "language_info": {
   "codemirror_mode": {
    "name": "ipython",
    "version": 3
   },
   "file_extension": ".py",
   "mimetype": "text/x-python",
   "name": "python",
   "nbconvert_exporter": "python",
   "pygments_lexer": "ipython3",
   "version": "3.6.7"
  }
 },
 "nbformat": 4,
 "nbformat_minor": 2
}
